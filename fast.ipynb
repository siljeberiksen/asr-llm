{
 "cells": [
  {
   "cell_type": "code",
   "execution_count": 1,
   "metadata": {},
   "outputs": [],
   "source": [
    "%load_ext autoreload\n",
    "%autoreload 2"
   ]
  },
  {
   "cell_type": "code",
   "execution_count": 2,
   "metadata": {},
   "outputs": [
    {
     "name": "stderr",
     "output_type": "stream",
     "text": [
      "/opt/homebrew/lib/python3.11/site-packages/pyannote/audio/core/io.py:43: UserWarning: torchaudio._backend.set_audio_backend has been deprecated. With dispatcher enabled, this function is no-op. You can remove the function call.\n",
      "  torchaudio.set_audio_backend(\"soundfile\")\n",
      "/opt/homebrew/lib/python3.11/site-packages/torch_audiomentations/utils/io.py:27: UserWarning: torchaudio._backend.set_audio_backend has been deprecated. With dispatcher enabled, this function is no-op. You can remove the function call.\n",
      "  torchaudio.set_audio_backend(\"soundfile\")\n"
     ]
    }
   ],
   "source": [
    "from faster_whisper import WhisperModel\n",
    "\n",
    "model_size = \"NbAiLabBeta/nb-whisper-base\"\n",
    "cpu_supported_compute_types = {\"small\": \"int8\", \"large\": \"float32\"}\n",
    "precision = \"small\"\n",
    "\n",
    "model = WhisperModel(\n",
    "    model_size,\n",
    "    device=\"cpu\",\n",
    "    compute_type=cpu_supported_compute_types[precision],\n",
    ")"
   ]
  },
  {
   "cell_type": "code",
   "execution_count": 6,
   "metadata": {},
   "outputs": [],
   "source": [
    "segments, info = model.transcribe(\"data/king.mp3\", beam_size=5, language=\"no\")"
   ]
  },
  {
   "cell_type": "code",
   "execution_count": 7,
   "metadata": {},
   "outputs": [
    {
     "name": "stdout",
     "output_type": "stream",
     "text": [
      "Generating segments from tokens: []\n",
      "Segment: tensor([[-0.6971, -0.6971, -0.6971,  ..., -0.0680, -0.2328, -0.1201],\n",
      "        [-0.6971, -0.6971, -0.6971,  ...,  0.0309, -0.0049, -0.1009],\n",
      "        [-0.6971, -0.6971, -0.6971,  ...,  0.4739,  0.4646,  0.4326],\n",
      "        ...,\n",
      "        [-0.6971, -0.6971, -0.6971,  ...,  0.0058, -0.0075, -0.0146],\n",
      "        [-0.6971, -0.6971, -0.6971,  ..., -0.0278,  0.0439,  0.0695],\n",
      "        [-0.6971, -0.6971, -0.6971,  ...,  0.0018,  0.0540, -0.0082]])\n",
      "Kwargs:\n",
      "beam_size: 5\n",
      "patience: 1\n",
      "------------------------------\n",
      "Result after cTranslate2:\n",
      "WhisperGenerationResult(sequences=[['<|0.06|>', 'ĠNord', 'm', 'enn', 'Ġe', 'r', 'Ġnord', 'l', 'ending', 'er', ',', '<|1.40|>', '<|2.50|>', 'ĠTr', 'Ã¸', 'nd', 'ere', ',', 'Ġs', 'Ã¸r', 'l', 'ending', 'er', 'Ġog', 'Ġfolk', 'Ġfra', 'Ġalle', 'Ġand', 're', 'Ġregion', 'er', '.', '<|5.90|>', '<|6.02|>', 'ĠNord', 'm', 'enn', 'Ġer', 'ĠogsÃ¥', 'Ġinn', 'v', 'and', 'ret', 'Ġfra', 'ĠAfghanistan', ',', 'ĠPakistan', ',', 'ĠPole', 'n', ',', 'ĠSverige', ',', 'ĠSom', 'alia', 'Ġog', 'ĠSyria', '.', '<|10.30|>']], sequences_ids=[[50367, 16229, 76, 1857, 308, 81, 39284, 75, 2029, 260, 11, 50434, 50489, 1765, 6715, 273, 323, 11, 262, 15499, 75, 2029, 260, 5360, 15748, 6600, 5430, 293, 265, 4458, 260, 13, 50659, 50665, 16229, 76, 1857, 1189, 23864, 7714, 85, 474, 1505, 6600, 13658, 11, 15985, 11, 34212, 77, 11, 33973, 11, 12297, 15579, 5360, 13314, 13, 50879]], scores=[-0.31546327471733093], no_speech_prob=4.3673382984599045e-15)\n",
      "this is the Tokenizer decoding tokens: [16229, 76, 1857, 308, 81, 39284, 75, 2029, 260, 11, 1765, 6715, 273, 323, 11, 262, 15499, 75, 2029, 260, 5360, 15748, 6600, 5430, 293, 265, 4458, 260, 13, 16229, 76, 1857, 1189, 23864, 7714, 85, 474, 1505, 6600, 13658, 11, 15985, 11, 34212, 77, 11, 33973, 11, 12297, 15579, 5360, 13314, 13]\n",
      "Text after generate: Nordmenn er nordlendinger, Trøndere, sørlendinger og folk fra alle andre regioner. Nordmenn er også innvandret fra Afghanistan, Pakistan, Polen, Sverige, Somalia og Syria.\n",
      "Decode Result:\n",
      "(WhisperGenerationResult(sequences=[['<|0.06|>', 'ĠNord', 'm', 'enn', 'Ġe', 'r', 'Ġnord', 'l', 'ending', 'er', ',', '<|1.40|>', '<|2.50|>', 'ĠTr', 'Ã¸', 'nd', 'ere', ',', 'Ġs', 'Ã¸r', 'l', 'ending', 'er', 'Ġog', 'Ġfolk', 'Ġfra', 'Ġalle', 'Ġand', 're', 'Ġregion', 'er', '.', '<|5.90|>', '<|6.02|>', 'ĠNord', 'm', 'enn', 'Ġer', 'ĠogsÃ¥', 'Ġinn', 'v', 'and', 'ret', 'Ġfra', 'ĠAfghanistan', ',', 'ĠPakistan', ',', 'ĠPole', 'n', ',', 'ĠSverige', ',', 'ĠSom', 'alia', 'Ġog', 'ĠSyria', '.', '<|10.30|>']], sequences_ids=[[50367, 16229, 76, 1857, 308, 81, 39284, 75, 2029, 260, 11, 50434, 50489, 1765, 6715, 273, 323, 11, 262, 15499, 75, 2029, 260, 5360, 15748, 6600, 5430, 293, 265, 4458, 260, 13, 50659, 50665, 16229, 76, 1857, 1189, 23864, 7714, 85, 474, 1505, 6600, 13658, 11, 15985, 11, 34212, 77, 11, 33973, 11, 12297, 15579, 5360, 13314, 13, 50879]], scores=[-0.31546327471733093], no_speech_prob=4.3673382984599045e-15), -0.3102055534720421, 0.0, 1.3282442748091603)\n",
      "tokens in segment: [50367, 16229, 76, 1857, 308, 81, 39284, 75, 2029, 260, 11, 50434]\n",
      "this is the Tokenizer decoding tokens: [16229, 76, 1857, 308, 81, 39284, 75, 2029, 260, 11]\n",
      "text in segment:  Nordmenn er nordlendinger,\n",
      "[0.06s -> 1.40s]  Nordmenn er nordlendinger,\n",
      "tokens in segment: [50489, 1765, 6715, 273, 323, 11, 262, 15499, 75, 2029, 260, 5360, 15748, 6600, 5430, 293, 265, 4458, 260, 13, 50659]\n",
      "this is the Tokenizer decoding tokens: [1765, 6715, 273, 323, 11, 262, 15499, 75, 2029, 260, 5360, 15748, 6600, 5430, 293, 265, 4458, 260, 13]\n",
      "text in segment:  Trøndere, sørlendinger og folk fra alle andre regioner.\n",
      "[2.50s -> 5.90s]  Trøndere, sørlendinger og folk fra alle andre regioner.\n",
      "tokens in segment: [50665, 16229, 76, 1857, 1189, 23864, 7714, 85, 474, 1505, 6600, 13658, 11, 15985, 11, 34212, 77, 11, 33973, 11, 12297, 15579, 5360, 13314, 13, 50879]\n",
      "this is the Tokenizer decoding tokens: [16229, 76, 1857, 1189, 23864, 7714, 85, 474, 1505, 6600, 13658, 11, 15985, 11, 34212, 77, 11, 33973, 11, 12297, 15579, 5360, 13314, 13]\n",
      "text in segment:  Nordmenn er også innvandret fra Afghanistan, Pakistan, Polen, Sverige, Somalia og Syria.\n",
      "[6.02s -> 10.30s]  Nordmenn er også innvandret fra Afghanistan, Pakistan, Polen, Sverige, Somalia og Syria.\n",
      "Segment: tensor([[-0.2995, -0.3031, -0.2263,  ..., -0.1969,  0.0225,  0.0578],\n",
      "        [-0.0026,  0.1235,  0.0038,  ..., -0.1897,  0.0428, -0.1925],\n",
      "        [ 0.3827,  0.2031,  0.3929,  ..., -0.0807,  0.0257,  0.1379],\n",
      "        ...,\n",
      "        [ 0.0783,  0.0462, -0.0684,  ..., -0.6971, -0.6846, -0.6971],\n",
      "        [ 0.1310,  0.0324, -0.0346,  ..., -0.6971, -0.6971, -0.6971],\n",
      "        [ 0.0978, -0.0915, -0.1646,  ..., -0.6971, -0.6971, -0.6971]])\n",
      "Kwargs:\n",
      "beam_size: 5\n",
      "patience: 1\n",
      "------------------------------\n",
      "Result after cTranslate2:\n",
      "WhisperGenerationResult(sequences=[['<|0.04|>', 'ĠDet', 'Ġvi', 'Ġk', 'aller', 'Ġhj', 'em', ',', 'Ġer', 'Ġder', 'Ġhj', 'ert', 'et', 'ĠvÃ¥r', 't', 'Ġer', '.', '<|5.40|>', '<|5.48|>', 'ĠOg', 'Ġdet', 'Ġkan', 'Ġikke', 'Ġalltid', 'Ġpl', 'ass', 'eres', 'Ġin', 'nen', 'for', 'Ġland', 'eg', 'ren', 'ser', '.', '<|11.36|>', '<|11.52|>', 'ĠNord', 'm', 'enn', 'Ġer', 'Ġj', 'enter', 'Ġsom', 'Ġer', 'Ġglad', 'Ġi', 'Ġj', 'enter', ',', 'Ġgut', 'ter', 'Ġsom', 'Ġer', 'Ġglad', 'Ġi', 'Ġgut', 'ter', '.', '<|16.76|>', '<|16.98|>', 'ĠOg', 'Ġj', 'enter', 'Ġog', 'Ġgut', 'ter', 'Ġsom', 'Ġer', 'Ġglad', 'Ġi', 'Ġh', 'ver', 'and', 're', '.', '<|20.36|>', '<|20.36|>', 'ĠNord', 'm', 'enn', 'Ġdr', 'om', 'mer', 'ĠpÃ¥', 'ĠGud', ',', 'ĠAllah', ',', 'ĠAl', 't', 'et', 'Ġog', 'Ġing', 'enting', '.', 'Ġnord', 'm', 'enn', 'Ġlik', 'er', 'ĠGr', 'ieg', ',', 'ĠKy', 'go', '.', '<|24.36|>']], sequences_ids=[[50366, 4237, 1932, 350, 22414, 23731, 443, 11, 1189, 1163, 23731, 911, 302, 26477, 83, 1189, 13, 50634, 50638, 14883, 1141, 4608, 13076, 45861, 499, 640, 9931, 294, 2866, 2994, 2117, 1146, 1095, 12484, 13, 50932, 50940, 16229, 76, 1857, 1189, 361, 14278, 3307, 1189, 5404, 741, 361, 14278, 11, 5228, 391, 3307, 1189, 5404, 741, 5228, 391, 13, 51202, 51213, 14883, 361, 14278, 5360, 5228, 391, 3307, 1189, 5404, 741, 276, 331, 474, 265, 13, 51382, 51382, 16229, 76, 1857, 1224, 298, 936, 4170, 45986, 11, 4574, 11, 967, 83, 302, 5360, 3957, 49265, 13, 39284, 76, 1857, 2913, 260, 2606, 20408, 11, 12237, 1571, 13, 51582]], scores=[-0.2401130497455597], no_speech_prob=1.795981802388269e-06)\n",
      "this is the Tokenizer decoding tokens: [4237, 1932, 350, 22414, 23731, 443, 11, 1189, 1163, 23731, 911, 302, 26477, 83, 1189, 13, 14883, 1141, 4608, 13076, 45861, 499, 640, 9931, 294, 2866, 2994, 2117, 1146, 1095, 12484, 13, 16229, 76, 1857, 1189, 361, 14278, 3307, 1189, 5404, 741, 361, 14278, 11, 5228, 391, 3307, 1189, 5404, 741, 5228, 391, 13, 14883, 361, 14278, 5360, 5228, 391, 3307, 1189, 5404, 741, 276, 331, 474, 265, 13, 16229, 76, 1857, 1224, 298, 936, 4170, 45986, 11, 4574, 11, 967, 83, 302, 5360, 3957, 49265, 13, 39284, 76, 1857, 2913, 260, 2606, 20408, 11, 12237, 1571, 13]\n",
      "Text after generate: Det vi kaller hjem, er der hjertet vårt er. Og det kan ikke alltid plasseres innenfor landegrenser. Nordmenn er jenter som er glad i jenter, gutter som er glad i gutter. Og jenter og gutter som er glad i hverandre. Nordmenn drommer på Gud, Allah, Altet og ingenting. nordmenn liker Grieg, Kygo.\n",
      "Decode Result:\n",
      "(WhisperGenerationResult(sequences=[['<|0.04|>', 'ĠDet', 'Ġvi', 'Ġk', 'aller', 'Ġhj', 'em', ',', 'Ġer', 'Ġder', 'Ġhj', 'ert', 'et', 'ĠvÃ¥r', 't', 'Ġer', '.', '<|5.40|>', '<|5.48|>', 'ĠOg', 'Ġdet', 'Ġkan', 'Ġikke', 'Ġalltid', 'Ġpl', 'ass', 'eres', 'Ġin', 'nen', 'for', 'Ġland', 'eg', 'ren', 'ser', '.', '<|11.36|>', '<|11.52|>', 'ĠNord', 'm', 'enn', 'Ġer', 'Ġj', 'enter', 'Ġsom', 'Ġer', 'Ġglad', 'Ġi', 'Ġj', 'enter', ',', 'Ġgut', 'ter', 'Ġsom', 'Ġer', 'Ġglad', 'Ġi', 'Ġgut', 'ter', '.', '<|16.76|>', '<|16.98|>', 'ĠOg', 'Ġj', 'enter', 'Ġog', 'Ġgut', 'ter', 'Ġsom', 'Ġer', 'Ġglad', 'Ġi', 'Ġh', 'ver', 'and', 're', '.', '<|20.36|>', '<|20.36|>', 'ĠNord', 'm', 'enn', 'Ġdr', 'om', 'mer', 'ĠpÃ¥', 'ĠGud', ',', 'ĠAllah', ',', 'ĠAl', 't', 'et', 'Ġog', 'Ġing', 'enting', '.', 'Ġnord', 'm', 'enn', 'Ġlik', 'er', 'ĠGr', 'ieg', ',', 'ĠKy', 'go', '.', '<|24.36|>']], sequences_ids=[[50366, 4237, 1932, 350, 22414, 23731, 443, 11, 1189, 1163, 23731, 911, 302, 26477, 83, 1189, 13, 50634, 50638, 14883, 1141, 4608, 13076, 45861, 499, 640, 9931, 294, 2866, 2994, 2117, 1146, 1095, 12484, 13, 50932, 50940, 16229, 76, 1857, 1189, 361, 14278, 3307, 1189, 5404, 741, 361, 14278, 11, 5228, 391, 3307, 1189, 5404, 741, 5228, 391, 13, 51202, 51213, 14883, 361, 14278, 5360, 5228, 391, 3307, 1189, 5404, 741, 276, 331, 474, 265, 13, 51382, 51382, 16229, 76, 1857, 1224, 298, 936, 4170, 45986, 11, 4574, 11, 967, 83, 302, 5360, 3957, 49265, 13, 39284, 76, 1857, 2913, 260, 2606, 20408, 11, 12237, 1571, 13, 51582]], scores=[-0.2401130497455597], no_speech_prob=1.795981802388269e-06), -0.2379101777295454, 0.0, 1.6818181818181819)\n",
      "tokens in segment: [50366, 4237, 1932, 350, 22414, 23731, 443, 11, 1189, 1163, 23731, 911, 302, 26477, 83, 1189, 13, 50634]\n",
      "this is the Tokenizer decoding tokens: [4237, 1932, 350, 22414, 23731, 443, 11, 1189, 1163, 23731, 911, 302, 26477, 83, 1189, 13]\n",
      "text in segment:  Det vi kaller hjem, er der hjertet vårt er.\n",
      "[30.04s -> 35.40s]  Det vi kaller hjem, er der hjertet vårt er.\n",
      "tokens in segment: [50638, 14883, 1141, 4608, 13076, 45861, 499, 640, 9931, 294, 2866, 2994, 2117, 1146, 1095, 12484, 13, 50932]\n",
      "this is the Tokenizer decoding tokens: [14883, 1141, 4608, 13076, 45861, 499, 640, 9931, 294, 2866, 2994, 2117, 1146, 1095, 12484, 13]\n",
      "text in segment:  Og det kan ikke alltid plasseres innenfor landegrenser.\n",
      "[35.48s -> 41.36s]  Og det kan ikke alltid plasseres innenfor landegrenser.\n",
      "tokens in segment: [50940, 16229, 76, 1857, 1189, 361, 14278, 3307, 1189, 5404, 741, 361, 14278, 11, 5228, 391, 3307, 1189, 5404, 741, 5228, 391, 13, 51202]\n",
      "this is the Tokenizer decoding tokens: [16229, 76, 1857, 1189, 361, 14278, 3307, 1189, 5404, 741, 361, 14278, 11, 5228, 391, 3307, 1189, 5404, 741, 5228, 391, 13]\n",
      "text in segment:  Nordmenn er jenter som er glad i jenter, gutter som er glad i gutter.\n",
      "[41.52s -> 46.76s]  Nordmenn er jenter som er glad i jenter, gutter som er glad i gutter.\n",
      "tokens in segment: [51213, 14883, 361, 14278, 5360, 5228, 391, 3307, 1189, 5404, 741, 276, 331, 474, 265, 13, 51382]\n",
      "this is the Tokenizer decoding tokens: [14883, 361, 14278, 5360, 5228, 391, 3307, 1189, 5404, 741, 276, 331, 474, 265, 13]\n",
      "text in segment:  Og jenter og gutter som er glad i hverandre.\n",
      "[46.98s -> 50.36s]  Og jenter og gutter som er glad i hverandre.\n",
      "tokens in segment: [51382, 16229, 76, 1857, 1224, 298, 936, 4170, 45986, 11, 4574, 11, 967, 83, 302, 5360, 3957, 49265, 13, 39284, 76, 1857, 2913, 260, 2606, 20408, 11, 12237, 1571, 13, 51582]\n",
      "this is the Tokenizer decoding tokens: [16229, 76, 1857, 1224, 298, 936, 4170, 45986, 11, 4574, 11, 967, 83, 302, 5360, 3957, 49265, 13, 39284, 76, 1857, 2913, 260, 2606, 20408, 11, 12237, 1571, 13]\n",
      "text in segment:  Nordmenn drommer på Gud, Allah, Altet og ingenting. nordmenn liker Grieg, Kygo.\n",
      "[50.36s -> 54.36s]  Nordmenn drommer på Gud, Allah, Altet og ingenting. nordmenn liker Grieg, Kygo.\n",
      "Segment: tensor([[-0.0646, -0.1997, -0.0416,  ..., -0.6971, -0.6971, -0.6971],\n",
      "        [ 0.1464, -0.2135,  0.0297,  ..., -0.6971, -0.6971, -0.6971],\n",
      "        [ 0.2137, -0.0988, -0.0617,  ..., -0.6971, -0.6971, -0.6971],\n",
      "        ...,\n",
      "        [-0.6971, -0.6971, -0.6971,  ..., -0.6971, -0.6971, -0.6971],\n",
      "        [-0.6971, -0.6971, -0.6901,  ..., -0.6971, -0.6971, -0.6971],\n",
      "        [-0.6971, -0.6971, -0.6971,  ..., -0.6971, -0.6971, -0.6971]])\n",
      "Kwargs:\n",
      "beam_size: 5\n",
      "patience: 1\n",
      "------------------------------\n",
      "Result after cTranslate2:\n",
      "WhisperGenerationResult(sequences=[['<|0.36|>', 'ĠHell', 'b', 'ill', 'ys', 'Ġog', 'ĠK', 'ari', 'ĠB', 'rem', 'nes', '.', '<|4.24|>', '<|4.32|>', 'ĠMed', 'Ġand', 're', 'Ġord', ':', 'ĠN', 'orge', 'Ġer', 'Ġdere', ',', 'ĠN', 'orge', 'Ġer', 'Ġoss', '.', '<|9.36|>', '<|11.08|>', 'ĠMitt', 'Ġst', 'Ã¸r', 'ste', 'ĠhÃ¥', 'p', 'Ġfor', 'ĠN', 'orge', 'Ġer', 'Ġat', 'Ġvi', 'Ġskal', 'Ġkl', 'are', 'ĠÃ', '¥', '<|11.74|>']], sequences_ids=[[50382, 12090, 65, 373, 749, 5360, 591, 3504, 363, 2579, 4081, 13, 50576, 50580, 3982, 293, 265, 4792, 25, 426, 4685, 1189, 15969, 11, 426, 4685, 1189, 19508, 13, 50832, 50918, 18784, 342, 15499, 2941, 24367, 79, 337, 426, 4685, 1189, 412, 1932, 16890, 9671, 543, 690, 98, 50951]], scores=[-0.3644177317619324], no_speech_prob=6.720632086398837e-07)\n",
      "this is the Tokenizer decoding tokens: [12090, 65, 373, 749, 5360, 591, 3504, 363, 2579, 4081, 13, 3982, 293, 265, 4792, 25, 426, 4685, 1189, 15969, 11, 426, 4685, 1189, 19508, 13, 18784, 342, 15499, 2941, 24367, 79, 337, 426, 4685, 1189, 412, 1932, 16890, 9671, 543, 690, 98]\n",
      "Text after generate: Hellbillys og Kari Bremnes. Med andre ord: Norge er dere, Norge er oss. Mitt største håp for Norge er at vi skal klare å\n",
      "Decode Result:\n",
      "(WhisperGenerationResult(sequences=[['<|0.36|>', 'ĠHell', 'b', 'ill', 'ys', 'Ġog', 'ĠK', 'ari', 'ĠB', 'rem', 'nes', '.', '<|4.24|>', '<|4.32|>', 'ĠMed', 'Ġand', 're', 'Ġord', ':', 'ĠN', 'orge', 'Ġer', 'Ġdere', ',', 'ĠN', 'orge', 'Ġer', 'Ġoss', '.', '<|9.36|>', '<|11.08|>', 'ĠMitt', 'Ġst', 'Ã¸r', 'ste', 'ĠhÃ¥', 'p', 'Ġfor', 'ĠN', 'orge', 'Ġer', 'Ġat', 'Ġvi', 'Ġskal', 'Ġkl', 'are', 'ĠÃ', '¥', '<|11.74|>']], sequences_ids=[[50382, 12090, 65, 373, 749, 5360, 591, 3504, 363, 2579, 4081, 13, 50576, 50580, 3982, 293, 265, 4792, 25, 426, 4685, 1189, 15969, 11, 426, 4685, 1189, 19508, 13, 50832, 50918, 18784, 342, 15499, 2941, 24367, 79, 337, 426, 4685, 1189, 412, 1932, 16890, 9671, 543, 690, 98, 50951]], scores=[-0.3644177317619324], no_speech_prob=6.720632086398837e-07), -0.35712937712669374, 0.0, 1.1495327102803738)\n",
      "tokens in segment: [50382, 12090, 65, 373, 749, 5360, 591, 3504, 363, 2579, 4081, 13, 50576]\n",
      "this is the Tokenizer decoding tokens: [12090, 65, 373, 749, 5360, 591, 3504, 363, 2579, 4081, 13]\n",
      "text in segment:  Hellbillys og Kari Bremnes.\n",
      "[60.36s -> 64.24s]  Hellbillys og Kari Bremnes.\n",
      "tokens in segment: [50580, 3982, 293, 265, 4792, 25, 426, 4685, 1189, 15969, 11, 426, 4685, 1189, 19508, 13, 50832]\n",
      "this is the Tokenizer decoding tokens: [3982, 293, 265, 4792, 25, 426, 4685, 1189, 15969, 11, 426, 4685, 1189, 19508, 13]\n",
      "text in segment:  Med andre ord: Norge er dere, Norge er oss.\n",
      "[64.32s -> 69.36s]  Med andre ord: Norge er dere, Norge er oss.\n",
      "tokens in segment: [50918, 18784, 342, 15499, 2941, 24367, 79, 337, 426, 4685, 1189, 412, 1932, 16890, 9671, 543, 690, 98, 50951]\n",
      "this is the Tokenizer decoding tokens: [18784, 342, 15499, 2941, 24367, 79, 337, 426, 4685, 1189, 412, 1932, 16890, 9671, 543, 690, 98]\n",
      "text in segment:  Mitt største håp for Norge er at vi skal klare å\n",
      "[71.08s -> 71.74s]  Mitt største håp for Norge er at vi skal klare å\n"
     ]
    }
   ],
   "source": [
    "for segment in segments:\n",
    "    print(\"[%.2fs -> %.2fs] %s\" % (segment.start, segment.end, segment.text))"
   ]
  }
 ],
 "metadata": {
  "kernelspec": {
   "display_name": "Python 3",
   "language": "python",
   "name": "python3"
  },
  "language_info": {
   "codemirror_mode": {
    "name": "ipython",
    "version": 3
   },
   "file_extension": ".py",
   "mimetype": "text/x-python",
   "name": "python",
   "nbconvert_exporter": "python",
   "pygments_lexer": "ipython3",
   "version": "3.11.8"
  }
 },
 "nbformat": 4,
 "nbformat_minor": 2
}
