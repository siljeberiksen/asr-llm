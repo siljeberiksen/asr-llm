{
 "cells": [
  {
   "cell_type": "code",
   "execution_count": 7,
   "metadata": {},
   "outputs": [],
   "source": [
    "from faster_whisper import WhisperModel\n",
    "\n",
    "model_size = \"large-v3\"\n",
    "model_size = \"NbAiLabBeta/nb-whisper-base\"\n",
    "\n",
    "cpu_supported_compute_types = {\"small\": \"int8\", \"large\": \"float32\"}\n",
    "model = WhisperModel(\n",
    "    model_size,\n",
    "    device=\"cpu\",\n",
    "    compute_type=cpu_supported_compute_types[\"large\"],\n",
    ")"
   ]
  },
  {
   "cell_type": "code",
   "execution_count": 8,
   "metadata": {},
   "outputs": [
    {
     "name": "stdout",
     "output_type": "stream",
     "text": [
      "Detected language 'no' with probability 1.000000\n",
      "[0.06s -> 2.98s]  Nordmenn er nordlendinger,\n",
      "[3.10s -> 8.30s]  strøndere, sørlendinger og folk fra alle andre regioner.\n",
      "[8.50s -> 13.70s]  Nordmenn er også innvandret fra Afghanistan, Pakistan,\n",
      "[14.90s -> 17.90s]  Polen, Sverige, Somalia og Syria.\n",
      "[30.04s -> 35.40s]  Det vi kaller hjem, er der hjertet vårt er.\n",
      "[35.48s -> 41.36s]  Og det kan ikke alltid plasseres innenfor landegrenser.\n",
      "[41.52s -> 46.64s]  Nordmenn er jenter som er glad i jenter, gutter som er glad i gutter,\n",
      "[46.98s -> 50.58s]  og jenter og gutter som er glad i hverandre.\n",
      "[50.58s -> 58.94s]  Nordmenn drommer på Gud, Allah, Altet og ingenting. nordmenn liker Grieg, Kygo,Qugo.\n",
      "[60.36s -> 63.56s]  Hellbillys og Kari Bremnes.\n",
      "[63.56s -> 68.86s]  Med andre ord: Norge er dere. Norge er oss.\n",
      "[71.02s -> 77.12s]  Mitt største håp for Norge er at vi skal klare å på hverandre,\n",
      "[77.34s -> 79.46s]  At vi skal bygge dette landet videre på\n",
      "[79.46s -> 84.30s] id, fellesskap og raushet.\n"
     ]
    }
   ],
   "source": [
    "segments, info = model.transcribe(\"data/king.mp3\", beam_size=5, language=\"no\")\n",
    "print(\"Detected language '%s' with probability %f\" % (info.language, info.language_probability))\n",
    "for segment in segments:\n",
    "    print(\"[%.2fs -> %.2fs] %s\" % (segment.start, segment.end, segment.text))"
   ]
  }
 ],
 "metadata": {
  "kernelspec": {
   "display_name": "Python 3",
   "language": "python",
   "name": "python3"
  },
  "language_info": {
   "codemirror_mode": {
    "name": "ipython",
    "version": 3
   },
   "file_extension": ".py",
   "mimetype": "text/x-python",
   "name": "python",
   "nbconvert_exporter": "python",
   "pygments_lexer": "ipython3",
   "version": "3.11.8"
  }
 },
 "nbformat": 4,
 "nbformat_minor": 2
}
