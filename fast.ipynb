{
 "cells": [
  {
   "cell_type": "code",
   "execution_count": 1,
   "metadata": {},
   "outputs": [
    {
     "name": "stderr",
     "output_type": "stream",
     "text": [
      "/opt/homebrew/lib/python3.11/site-packages/pyannote/audio/core/io.py:43: UserWarning: torchaudio._backend.set_audio_backend has been deprecated. With dispatcher enabled, this function is no-op. You can remove the function call.\n",
      "  torchaudio.set_audio_backend(\"soundfile\")\n",
      "/opt/homebrew/lib/python3.11/site-packages/torch_audiomentations/utils/io.py:27: UserWarning: torchaudio._backend.set_audio_backend has been deprecated. With dispatcher enabled, this function is no-op. You can remove the function call.\n",
      "  torchaudio.set_audio_backend(\"soundfile\")\n"
     ]
    }
   ],
   "source": [
    "from faster_whisper import WhisperModel\n",
    "\n",
    "model_size = \"NbAiLabBeta/nb-whisper-base\"\n",
    "cpu_supported_compute_types = {\"small\": \"int8\", \"large\": \"float32\"}\n",
    "precision = \"small\"\n",
    "\n",
    "model = WhisperModel(\n",
    "    model_size,\n",
    "    device=\"cpu\",\n",
    "    compute_type=cpu_supported_compute_types[precision],\n",
    ")"
   ]
  },
  {
   "cell_type": "code",
   "execution_count": 2,
   "metadata": {},
   "outputs": [
    {
     "name": "stdout",
     "output_type": "stream",
     "text": [
      "Detected language 'no' with probability 1.000000\n",
      "[0.06s -> 1.40s]  Nordmenn er nordlendinger,\n",
      "[2.50s -> 5.90s]  Trøndere, sørlendinger og folk fra alle andre regioner.\n",
      "[6.02s -> 10.30s]  Nordmenn er også innvandret fra Afghanistan, Pakistan, Polen, Sverige, Somalia og Syria.\n",
      "[30.04s -> 35.40s]  Det vi kaller hjem, er der hjertet vårt er.\n",
      "[35.48s -> 41.36s]  Og det kan ikke alltid plasseres innenfor landegrenser.\n",
      "[41.52s -> 46.76s]  Nordmenn er jenter som er glad i jenter, gutter som er glad i gutter.\n",
      "[46.98s -> 50.36s]  Og jenter og gutter som er glad i hverandre.\n",
      "[50.36s -> 54.36s]  Nordmenn drommer på Gud, Allah, Altet og ingenting. nordmenn liker Grieg, Kygo.\n",
      "[60.36s -> 64.24s]  Hellbillys og Kari Bremnes.\n",
      "[64.32s -> 69.36s]  Med andre ord: Norge er dere, Norge er oss.\n",
      "[71.08s -> 71.74s]  Mitt største håp for Norge er at vi skal klare å\n"
     ]
    }
   ],
   "source": [
    "segments, info = model.transcribe(\"data/king.mp3\", beam_size=5, language=\"no\")\n",
    "print(\"Detected language '%s' with probability %f\" % (info.language, info.language_probability))\n",
    "for segment in segments:\n",
    "    print(\"[%.2fs -> %.2fs] %s\" % (segment.start, segment.end, segment.text))"
   ]
  }
 ],
 "metadata": {
  "kernelspec": {
   "display_name": "Python 3",
   "language": "python",
   "name": "python3"
  },
  "language_info": {
   "codemirror_mode": {
    "name": "ipython",
    "version": 3
   },
   "file_extension": ".py",
   "mimetype": "text/x-python",
   "name": "python",
   "nbconvert_exporter": "python",
   "pygments_lexer": "ipython3",
   "version": "3.11.8"
  }
 },
 "nbformat": 4,
 "nbformat_minor": 2
}
